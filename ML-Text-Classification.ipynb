{
 "cells": [
  {
   "cell_type": "code",
   "execution_count": 1,
   "metadata": {},
   "outputs": [
    {
     "name": "stdout",
     "output_type": "stream",
     "text": [
      "[nltk_data] Downloading package stopwords to\n",
      "[nltk_data]     /home/jupyterlab/nltk_data...\n",
      "[nltk_data]   Unzipping corpora/stopwords.zip.\n",
      "[nltk_data] Downloading package punkt to /home/jupyterlab/nltk_data...\n",
      "[nltk_data]   Unzipping tokenizers/punkt.zip.\n"
     ]
    }
   ],
   "source": [
    "import itertools\n",
    "import numpy as np\n",
    "import matplotlib.pyplot as plt\n",
    "from matplotlib.ticker import NullFormatter\n",
    "import pandas as pd\n",
    "import numpy as np\n",
    "import string\n",
    "import matplotlib.ticker as ticker\n",
    "from sklearn import preprocessing\n",
    "import nltk\n",
    "nltk.download('stopwords')\n",
    "nltk.download('punkt')\n",
    "%matplotlib inline"
   ]
  },
  {
   "cell_type": "code",
   "execution_count": null,
   "metadata": {},
   "outputs": [
    {
     "name": "stdout",
     "output_type": "stream",
     "text": [
      "Solving environment: - "
     ]
    }
   ],
   "source": [
    "#downloading the NLTK package\n",
    "!conda install -c conda-forge nltk --yes"
   ]
  },
  {
   "cell_type": "markdown",
   "metadata": {},
   "source": [
    "<b>Loading the data from the CSV file</b>"
   ]
  },
  {
   "cell_type": "code",
   "execution_count": 2,
   "metadata": {},
   "outputs": [
    {
     "data": {
      "text/html": [
       "<div>\n",
       "<style scoped>\n",
       "    .dataframe tbody tr th:only-of-type {\n",
       "        vertical-align: middle;\n",
       "    }\n",
       "\n",
       "    .dataframe tbody tr th {\n",
       "        vertical-align: top;\n",
       "    }\n",
       "\n",
       "    .dataframe thead th {\n",
       "        text-align: right;\n",
       "    }\n",
       "</style>\n",
       "<table border=\"1\" class=\"dataframe\">\n",
       "  <thead>\n",
       "    <tr style=\"text-align: right;\">\n",
       "      <th></th>\n",
       "      <th>text</th>\n",
       "      <th>id</th>\n",
       "    </tr>\n",
       "  </thead>\n",
       "  <tbody>\n",
       "    <tr>\n",
       "      <th>0</th>\n",
       "      <td>Keep your gloves, hats, coats and jackets toge...</td>\n",
       "      <td>122885</td>\n",
       "    </tr>\n",
       "    <tr>\n",
       "      <th>1</th>\n",
       "      <td>The Home Dynamix Serendipity Ivory 5 ft. 2 in....</td>\n",
       "      <td>188958</td>\n",
       "    </tr>\n",
       "    <tr>\n",
       "      <th>2</th>\n",
       "      <td>The Bosch 18-Volt lithium-ion line of Cordless...</td>\n",
       "      <td>146065</td>\n",
       "    </tr>\n",
       "    <tr>\n",
       "      <th>3</th>\n",
       "      <td>Restore your Porter-Cable sander or polisher t...</td>\n",
       "      <td>165138</td>\n",
       "    </tr>\n",
       "    <tr>\n",
       "      <th>4</th>\n",
       "      <td>The SPIKECUBE Surge Suppressor from Tripp Lite...</td>\n",
       "      <td>185565</td>\n",
       "    </tr>\n",
       "  </tbody>\n",
       "</table>\n",
       "</div>"
      ],
      "text/plain": [
       "                                                text      id\n",
       "0  Keep your gloves, hats, coats and jackets toge...  122885\n",
       "1  The Home Dynamix Serendipity Ivory 5 ft. 2 in....  188958\n",
       "2  The Bosch 18-Volt lithium-ion line of Cordless...  146065\n",
       "3  Restore your Porter-Cable sander or polisher t...  165138\n",
       "4  The SPIKECUBE Surge Suppressor from Tripp Lite...  185565"
      ]
     },
     "execution_count": 2,
     "metadata": {},
     "output_type": "execute_result"
    }
   ],
   "source": [
    "df = pd.read_csv('train_data.csv')\n",
    "df.head()"
   ]
  },
  {
   "cell_type": "markdown",
   "metadata": {},
   "source": [
    "Checking the dimensions of df"
   ]
  },
  {
   "cell_type": "code",
   "execution_count": 3,
   "metadata": {},
   "outputs": [
    {
     "data": {
      "text/plain": [
       "(41569, 2)"
      ]
     },
     "execution_count": 3,
     "metadata": {},
     "output_type": "execute_result"
    }
   ],
   "source": [
    "df.shape"
   ]
  },
  {
   "cell_type": "markdown",
   "metadata": {},
   "source": [
    "<b> Tokenization and Pre-processing</b>"
   ]
  },
  {
   "cell_type": "code",
   "execution_count": 4,
   "metadata": {},
   "outputs": [
    {
     "data": {
      "text/html": [
       "<div>\n",
       "<style scoped>\n",
       "    .dataframe tbody tr th:only-of-type {\n",
       "        vertical-align: middle;\n",
       "    }\n",
       "\n",
       "    .dataframe tbody tr th {\n",
       "        vertical-align: top;\n",
       "    }\n",
       "\n",
       "    .dataframe thead th {\n",
       "        text-align: right;\n",
       "    }\n",
       "</style>\n",
       "<table border=\"1\" class=\"dataframe\">\n",
       "  <thead>\n",
       "    <tr style=\"text-align: right;\">\n",
       "      <th></th>\n",
       "      <th>text</th>\n",
       "      <th>id</th>\n",
       "    </tr>\n",
       "  </thead>\n",
       "  <tbody>\n",
       "    <tr>\n",
       "      <th>0</th>\n",
       "      <td>[keep, your, gloves, hats, coats, and, jackets...</td>\n",
       "      <td>122885</td>\n",
       "    </tr>\n",
       "    <tr>\n",
       "      <th>1</th>\n",
       "      <td>[the, home, dynamix, serendipity, ivory, ft, i...</td>\n",
       "      <td>188958</td>\n",
       "    </tr>\n",
       "    <tr>\n",
       "      <th>2</th>\n",
       "      <td>[the, bosch, volt, lithiumion, line, of, cordl...</td>\n",
       "      <td>146065</td>\n",
       "    </tr>\n",
       "    <tr>\n",
       "      <th>3</th>\n",
       "      <td>[restore, your, portercable, sander, or, polis...</td>\n",
       "      <td>165138</td>\n",
       "    </tr>\n",
       "    <tr>\n",
       "      <th>4</th>\n",
       "      <td>[the, spikecube, surge, suppressor, from, trip...</td>\n",
       "      <td>185565</td>\n",
       "    </tr>\n",
       "  </tbody>\n",
       "</table>\n",
       "</div>"
      ],
      "text/plain": [
       "                                                text      id\n",
       "0  [keep, your, gloves, hats, coats, and, jackets...  122885\n",
       "1  [the, home, dynamix, serendipity, ivory, ft, i...  188958\n",
       "2  [the, bosch, volt, lithiumion, line, of, cordl...  146065\n",
       "3  [restore, your, portercable, sander, or, polis...  165138\n",
       "4  [the, spikecube, surge, suppressor, from, trip...  185565"
      ]
     },
     "execution_count": 4,
     "metadata": {},
     "output_type": "execute_result"
    }
   ],
   "source": [
    "#Tokenization using the NLTK package\n",
    "from nltk.tokenize import sent_tokenize, word_tokenize\n",
    "\n",
    "#Converting everything in the dataframe to lowercase\n",
    "df.text = df.text.apply(lambda x: x.lower())\n",
    "\n",
    "#Deleting the punctuation from the text column\n",
    "df.text = df.text.apply(lambda x: x.translate(str.maketrans('','',string.punctuation)))\n",
    "\n",
    "#Deleting the digits from the text column\n",
    "df.text = df.text.apply(lambda x: x.translate(str.maketrans('','',string.digits)))\n",
    "df.head()\n",
    "\n",
    "#Tokenizing the words in the dataframe\n",
    "#df.text = df.text.astype(str)\n",
    "df.text = df.text.apply(lambda x: nltk.word_tokenize(x))\n",
    "\n",
    "df.head()"
   ]
  },
  {
   "cell_type": "markdown",
   "metadata": {},
   "source": [
    "<b>Removing the Stopwords</b>"
   ]
  },
  {
   "cell_type": "code",
   "execution_count": 5,
   "metadata": {},
   "outputs": [
    {
     "data": {
      "text/html": [
       "<div>\n",
       "<style scoped>\n",
       "    .dataframe tbody tr th:only-of-type {\n",
       "        vertical-align: middle;\n",
       "    }\n",
       "\n",
       "    .dataframe tbody tr th {\n",
       "        vertical-align: top;\n",
       "    }\n",
       "\n",
       "    .dataframe thead th {\n",
       "        text-align: right;\n",
       "    }\n",
       "</style>\n",
       "<table border=\"1\" class=\"dataframe\">\n",
       "  <thead>\n",
       "    <tr style=\"text-align: right;\">\n",
       "      <th></th>\n",
       "      <th>text</th>\n",
       "      <th>id</th>\n",
       "    </tr>\n",
       "  </thead>\n",
       "  <tbody>\n",
       "    <tr>\n",
       "      <th>0</th>\n",
       "      <td>[keep, gloves, hats, coats, jackets, together,...</td>\n",
       "      <td>122885</td>\n",
       "    </tr>\n",
       "    <tr>\n",
       "      <th>1</th>\n",
       "      <td>[home, dynamix, serendipity, ivory, ft, x, ft,...</td>\n",
       "      <td>188958</td>\n",
       "    </tr>\n",
       "    <tr>\n",
       "      <th>2</th>\n",
       "      <td>[bosch, volt, lithiumion, line, cordless, reci...</td>\n",
       "      <td>146065</td>\n",
       "    </tr>\n",
       "    <tr>\n",
       "      <th>3</th>\n",
       "      <td>[restore, portercable, sander, polisher, origi...</td>\n",
       "      <td>165138</td>\n",
       "    </tr>\n",
       "    <tr>\n",
       "      <th>4</th>\n",
       "      <td>[spikecube, surge, suppressor, tripp, lite, di...</td>\n",
       "      <td>185565</td>\n",
       "    </tr>\n",
       "  </tbody>\n",
       "</table>\n",
       "</div>"
      ],
      "text/plain": [
       "                                                text      id\n",
       "0  [keep, gloves, hats, coats, jackets, together,...  122885\n",
       "1  [home, dynamix, serendipity, ivory, ft, x, ft,...  188958\n",
       "2  [bosch, volt, lithiumion, line, cordless, reci...  146065\n",
       "3  [restore, portercable, sander, polisher, origi...  165138\n",
       "4  [spikecube, surge, suppressor, tripp, lite, di...  185565"
      ]
     },
     "execution_count": 5,
     "metadata": {},
     "output_type": "execute_result"
    }
   ],
   "source": [
    "from nltk.corpus import stopwords\n",
    "\n",
    "# Bring in the default English NLTK stop words\n",
    "stoplist = stopwords.words('english')\n",
    "\n",
    "# Define additional stopwords in a string\n",
    "additional_stopwords = \"\"\"Home Depot Protection Plan Product Warranty\"\"\"\n",
    "\n",
    "# Split the the additional stopwords string on each word and then add those words to the NLTK stopwords list\n",
    "stoplist += additional_stopwords.split()\n",
    "\n",
    "df.text = df.text.apply(lambda x: [item for item in x if item not in stoplist])\n",
    "df.head()"
   ]
  },
  {
   "cell_type": "markdown",
   "metadata": {},
   "source": [
    "Load the train_label dataset and merge it with train_data using the id column"
   ]
  },
  {
   "cell_type": "code",
   "execution_count": 6,
   "metadata": {},
   "outputs": [
    {
     "data": {
      "text/html": [
       "<div>\n",
       "<style scoped>\n",
       "    .dataframe tbody tr th:only-of-type {\n",
       "        vertical-align: middle;\n",
       "    }\n",
       "\n",
       "    .dataframe tbody tr th {\n",
       "        vertical-align: top;\n",
       "    }\n",
       "\n",
       "    .dataframe thead th {\n",
       "        text-align: right;\n",
       "    }\n",
       "</style>\n",
       "<table border=\"1\" class=\"dataframe\">\n",
       "  <thead>\n",
       "    <tr style=\"text-align: right;\">\n",
       "      <th></th>\n",
       "      <th>id</th>\n",
       "      <th>label</th>\n",
       "    </tr>\n",
       "  </thead>\n",
       "  <tbody>\n",
       "    <tr>\n",
       "      <th>0</th>\n",
       "      <td>100003</td>\n",
       "      <td>Shape</td>\n",
       "    </tr>\n",
       "    <tr>\n",
       "      <th>1</th>\n",
       "      <td>100004</td>\n",
       "      <td>Voltage (volts)</td>\n",
       "    </tr>\n",
       "    <tr>\n",
       "      <th>2</th>\n",
       "      <td>100004</td>\n",
       "      <td>Wattage (watts)</td>\n",
       "    </tr>\n",
       "    <tr>\n",
       "      <th>3</th>\n",
       "      <td>100006</td>\n",
       "      <td>Wattage (watts)</td>\n",
       "    </tr>\n",
       "    <tr>\n",
       "      <th>4</th>\n",
       "      <td>100007</td>\n",
       "      <td>ENERGY STAR Certified</td>\n",
       "    </tr>\n",
       "  </tbody>\n",
       "</table>\n",
       "</div>"
      ],
      "text/plain": [
       "       id                  label\n",
       "0  100003                  Shape\n",
       "1  100004        Voltage (volts)\n",
       "2  100004        Wattage (watts)\n",
       "3  100006        Wattage (watts)\n",
       "4  100007  ENERGY STAR Certified"
      ]
     },
     "execution_count": 6,
     "metadata": {},
     "output_type": "execute_result"
    }
   ],
   "source": [
    "#Load the train_label.csv into a dataframe\n",
    "df1 = pd.read_csv('train_label.csv')\n",
    "df1.head()"
   ]
  },
  {
   "cell_type": "markdown",
   "metadata": {},
   "source": [
    "Check the dimensions of df1 dataframe"
   ]
  },
  {
   "cell_type": "code",
   "execution_count": 7,
   "metadata": {},
   "outputs": [
    {
     "name": "stdout",
     "output_type": "stream",
     "text": [
      "df1 has 75170 rows and 2 colums\n"
     ]
    }
   ],
   "source": [
    "print('df1 has',df1.shape[0],'rows and',df1.shape[1],'colums')"
   ]
  },
  {
   "cell_type": "markdown",
   "metadata": {},
   "source": [
    "<b>Let's group the labels for the same id together</b>"
   ]
  },
  {
   "cell_type": "code",
   "execution_count": 8,
   "metadata": {},
   "outputs": [
    {
     "data": {
      "text/html": [
       "<div>\n",
       "<style scoped>\n",
       "    .dataframe tbody tr th:only-of-type {\n",
       "        vertical-align: middle;\n",
       "    }\n",
       "\n",
       "    .dataframe tbody tr th {\n",
       "        vertical-align: top;\n",
       "    }\n",
       "\n",
       "    .dataframe thead th {\n",
       "        text-align: right;\n",
       "    }\n",
       "</style>\n",
       "<table border=\"1\" class=\"dataframe\">\n",
       "  <thead>\n",
       "    <tr style=\"text-align: right;\">\n",
       "      <th></th>\n",
       "      <th>label</th>\n",
       "    </tr>\n",
       "    <tr>\n",
       "      <th>id</th>\n",
       "      <th></th>\n",
       "    </tr>\n",
       "  </thead>\n",
       "  <tbody>\n",
       "    <tr>\n",
       "      <th>100003</th>\n",
       "      <td>[Shape]</td>\n",
       "    </tr>\n",
       "    <tr>\n",
       "      <th>100004</th>\n",
       "      <td>[Voltage (volts), Wattage (watts)]</td>\n",
       "    </tr>\n",
       "    <tr>\n",
       "      <th>100006</th>\n",
       "      <td>[Wattage (watts)]</td>\n",
       "    </tr>\n",
       "    <tr>\n",
       "      <th>100007</th>\n",
       "      <td>[ENERGY STAR Certified]</td>\n",
       "    </tr>\n",
       "    <tr>\n",
       "      <th>100008</th>\n",
       "      <td>[Finish, Indoor/Outdoor, Package Quantity]</td>\n",
       "    </tr>\n",
       "  </tbody>\n",
       "</table>\n",
       "</div>"
      ],
      "text/plain": [
       "                                             label\n",
       "id                                                \n",
       "100003                                     [Shape]\n",
       "100004          [Voltage (volts), Wattage (watts)]\n",
       "100006                           [Wattage (watts)]\n",
       "100007                     [ENERGY STAR Certified]\n",
       "100008  [Finish, Indoor/Outdoor, Package Quantity]"
      ]
     },
     "execution_count": 8,
     "metadata": {},
     "output_type": "execute_result"
    }
   ],
   "source": [
    "df2 = df1.groupby('id').agg(lambda x: x.tolist())\n",
    "df2.head()"
   ]
  },
  {
   "cell_type": "markdown",
   "metadata": {},
   "source": [
    "<b>Merging the dataframes df and df1 based on the 'id' column</b>"
   ]
  },
  {
   "cell_type": "code",
   "execution_count": 9,
   "metadata": {},
   "outputs": [
    {
     "data": {
      "text/html": [
       "<div>\n",
       "<style scoped>\n",
       "    .dataframe tbody tr th:only-of-type {\n",
       "        vertical-align: middle;\n",
       "    }\n",
       "\n",
       "    .dataframe tbody tr th {\n",
       "        vertical-align: top;\n",
       "    }\n",
       "\n",
       "    .dataframe thead th {\n",
       "        text-align: right;\n",
       "    }\n",
       "</style>\n",
       "<table border=\"1\" class=\"dataframe\">\n",
       "  <thead>\n",
       "    <tr style=\"text-align: right;\">\n",
       "      <th></th>\n",
       "      <th>text</th>\n",
       "      <th>id</th>\n",
       "      <th>label</th>\n",
       "    </tr>\n",
       "  </thead>\n",
       "  <tbody>\n",
       "    <tr>\n",
       "      <th>0</th>\n",
       "      <td>[keep, gloves, hats, coats, jackets, together,...</td>\n",
       "      <td>122885</td>\n",
       "      <td>[Assembly Required, Finish, Hardware Included]</td>\n",
       "    </tr>\n",
       "    <tr>\n",
       "      <th>1</th>\n",
       "      <td>[home, dynamix, serendipity, ivory, ft, x, ft,...</td>\n",
       "      <td>188958</td>\n",
       "      <td>[Commercial / Residential, Features, Flooring ...</td>\n",
       "    </tr>\n",
       "    <tr>\n",
       "      <th>2</th>\n",
       "      <td>[bosch, volt, lithiumion, line, cordless, reci...</td>\n",
       "      <td>146065</td>\n",
       "      <td>[Tools Product Type, Voltage (volts)]</td>\n",
       "    </tr>\n",
       "    <tr>\n",
       "      <th>3</th>\n",
       "      <td>[restore, portercable, sander, polisher, origi...</td>\n",
       "      <td>165138</td>\n",
       "      <td>[Tools Product Type]</td>\n",
       "    </tr>\n",
       "    <tr>\n",
       "      <th>4</th>\n",
       "      <td>[spikecube, surge, suppressor, tripp, lite, di...</td>\n",
       "      <td>185565</td>\n",
       "      <td>[Commercial / Residential, Package Quantity]</td>\n",
       "    </tr>\n",
       "  </tbody>\n",
       "</table>\n",
       "</div>"
      ],
      "text/plain": [
       "                                                text      id  \\\n",
       "0  [keep, gloves, hats, coats, jackets, together,...  122885   \n",
       "1  [home, dynamix, serendipity, ivory, ft, x, ft,...  188958   \n",
       "2  [bosch, volt, lithiumion, line, cordless, reci...  146065   \n",
       "3  [restore, portercable, sander, polisher, origi...  165138   \n",
       "4  [spikecube, surge, suppressor, tripp, lite, di...  185565   \n",
       "\n",
       "                                               label  \n",
       "0     [Assembly Required, Finish, Hardware Included]  \n",
       "1  [Commercial / Residential, Features, Flooring ...  \n",
       "2              [Tools Product Type, Voltage (volts)]  \n",
       "3                               [Tools Product Type]  \n",
       "4       [Commercial / Residential, Package Quantity]  "
      ]
     },
     "execution_count": 9,
     "metadata": {},
     "output_type": "execute_result"
    }
   ],
   "source": [
    "df_merged = pd.merge(df,df2, on='id', how='left')\n",
    "df_merged.head()"
   ]
  },
  {
   "cell_type": "code",
   "execution_count": 10,
   "metadata": {},
   "outputs": [
    {
     "data": {
      "text/plain": [
       "6"
      ]
     },
     "execution_count": 10,
     "metadata": {},
     "output_type": "execute_result"
    }
   ],
   "source": [
    "#Finding the max legth of label\n",
    "max(map(len,df_merged['label']))"
   ]
  },
  {
   "cell_type": "code",
   "execution_count": 11,
   "metadata": {},
   "outputs": [],
   "source": [
    "column=['id','label1','label2','label3','label4','label5','label6']\n",
    "df_labels = pd.DataFrame(columns=column)\n",
    "\n",
    "df_merged = df_merged.reindex( columns = df_merged.columns.tolist() + ['label1','label2','label3','label4','label5','label6'])"
   ]
  },
  {
   "cell_type": "code",
   "execution_count": null,
   "metadata": {},
   "outputs": [],
   "source": [
    "for index, row in df_merged.iterrows():\n",
    "    labelList=row['label']\n",
    "    #if index<2:\n",
    "        #print(labelList)\n",
    "    for n in range(6):\n",
    "        labelname='label'+ str(n+1)\n",
    "        if len(labelList)>n:\n",
    "            df_merged.iloc[index,n+3]=[labelList[n]]\n",
    "            #row[labelname]=[labelList[n]]\n",
    "        else:\n",
    "            df_merged.iloc[index,n+3]=['0']\n",
    "            #row[labelname]=['0']\n",
    "        #if index<2:\n",
    "            #print(labelname)\n",
    "            #print(row[labelname])\n",
    "            #print(df_merged.iloc[index,n+3])\n",
    "    #df_labels.append(t,ignore_index=True)\n",
    "\n",
    "#df_updated=pd.merge(df_merged,df_labels,on='id',how='left')    \n",
    "#df_updated.head()\n",
    "df_merged.head()"
   ]
  },
  {
   "cell_type": "markdown",
   "metadata": {},
   "source": [
    "<b> Visualizing the data for insights</b>"
   ]
  },
  {
   "cell_type": "code",
   "execution_count": 13,
   "metadata": {},
   "outputs": [
    {
     "name": "stdout",
     "output_type": "stream",
     "text": [
      "Solving environment: done\n",
      "\n",
      "## Package Plan ##\n",
      "\n",
      "  environment location: /home/jupyterlab/conda\n",
      "\n",
      "  added / updated specs: \n",
      "    - seaborn\n",
      "\n",
      "\n",
      "The following packages will be downloaded:\n",
      "\n",
      "    package                    |            build\n",
      "    ---------------------------|-----------------\n",
      "    libssh2-1.8.0              |       h1ba5d50_4         233 KB  anaconda\n",
      "    libcurl-7.63.0             |    h20c2e04_1000         550 KB  anaconda\n",
      "    pycurl-7.43.0.2            |   py36h1ba5d50_0         185 KB  anaconda\n",
      "    qt-5.9.7                   |       h5867ecd_1        85.9 MB  anaconda\n",
      "    krb5-1.16.1                |       h173b8e3_7         1.4 MB  anaconda\n",
      "    ca-certificates-2018.12.5  |                0         123 KB  anaconda\n",
      "    conda-4.6.1                |           py36_0         1.7 MB  anaconda\n",
      "    cryptography-2.4.2         |   py36h1ba5d50_0         618 KB  anaconda\n",
      "    certifi-2018.11.29         |           py36_0         146 KB  anaconda\n",
      "    curl-7.63.0                |    hbc83047_1000         145 KB  anaconda\n",
      "    python-3.6.8               |       h0371630_0        34.4 MB  anaconda\n",
      "    libarchive-3.3.3           |       h5d8350f_5         1.5 MB  anaconda\n",
      "    ------------------------------------------------------------\n",
      "                                           Total:       126.8 MB\n",
      "\n",
      "The following packages will be UPDATED:\n",
      "\n",
      "    ca-certificates: 2018.11.29-ha4d7672_0    conda-forge --> 2018.12.5-0             anaconda\n",
      "    conda:           4.5.12-py36_1000         conda-forge --> 4.6.1-py36_0            anaconda\n",
      "    cryptography:    2.3.1-py36hb7f436b_1000  conda-forge --> 2.4.2-py36h1ba5d50_0    anaconda\n",
      "    curl:            7.63.0-h646f8bb_1000     conda-forge --> 7.63.0-hbc83047_1000    anaconda\n",
      "    grpcio:          1.16.0-py36h4f00d22_1000 conda-forge --> 1.16.1-py36hf8bcb03_1   anaconda\n",
      "    libcurl:         7.63.0-h01ee5af_1000     conda-forge --> 7.63.0-h20c2e04_1000    anaconda\n",
      "    openssl:         1.0.2p-h14c3975_1002     conda-forge --> 1.1.1-h7b6447c_0        anaconda\n",
      "    pycurl:          7.43.0.2-py36hb7f436b_0              --> 7.43.0.2-py36h1ba5d50_0 anaconda\n",
      "    python:          3.6.6-hd21baee_1003      conda-forge --> 3.6.8-h0371630_0        anaconda\n",
      "    qt:              5.9.6-h8703b6f_2                     --> 5.9.7-h5867ecd_1        anaconda\n",
      "\n",
      "The following packages will be DOWNGRADED:\n",
      "\n",
      "    certifi:         2018.11.29-py36_1000     conda-forge --> 2018.11.29-py36_0       anaconda\n",
      "    krb5:            1.16.2-hc83ff2d_1000     conda-forge --> 1.16.1-h173b8e3_7       anaconda\n",
      "    libarchive:      3.3.3-ha149a29_1000      conda-forge --> 3.3.3-h5d8350f_5        anaconda\n",
      "    libssh2:         1.8.0-h1ad7b7a_1003      conda-forge --> 1.8.0-h1ba5d50_4        anaconda\n",
      "\n",
      "\n",
      "Downloading and Extracting Packages\n",
      "libssh2-1.8.0        | 233 KB    | ##################################### | 100% \n",
      "libcurl-7.63.0       | 550 KB    | ##################################### | 100% \n",
      "pycurl-7.43.0.2      | 185 KB    | ##################################### | 100% \n",
      "qt-5.9.7             | 85.9 MB   | ##################################### | 100% \n",
      "krb5-1.16.1          | 1.4 MB    | ##################################### | 100% \n",
      "ca-certificates-2018 | 123 KB    | ##################################### | 100% \n",
      "conda-4.6.1          | 1.7 MB    | ##################################### | 100% \n",
      "cryptography-2.4.2   | 618 KB    | ##################################### | 100% \n",
      "certifi-2018.11.29   | 146 KB    | ##################################### | 100% \n",
      "curl-7.63.0          | 145 KB    | ##################################### | 100% \n",
      "python-3.6.8         | 34.4 MB   | ##################################### | 100% \n",
      "libarchive-3.3.3     | 1.5 MB    | ##################################### | 100% \n",
      "Preparing transaction: done\n",
      "Verifying transaction: done\n",
      "Executing transaction: done\n"
     ]
    }
   ],
   "source": [
    "#installing the seaborn package\n",
    "!conda install -c anaconda seaborn -y"
   ]
  },
  {
   "cell_type": "markdown",
   "metadata": {},
   "source": [
    "<b>Preparing the dataframe for model fitting and transformation</b>"
   ]
  },
  {
   "cell_type": "code",
   "execution_count": 144,
   "metadata": {},
   "outputs": [
    {
     "data": {
      "text/html": [
       "<div>\n",
       "<style scoped>\n",
       "    .dataframe tbody tr th:only-of-type {\n",
       "        vertical-align: middle;\n",
       "    }\n",
       "\n",
       "    .dataframe tbody tr th {\n",
       "        vertical-align: top;\n",
       "    }\n",
       "\n",
       "    .dataframe thead th {\n",
       "        text-align: right;\n",
       "    }\n",
       "</style>\n",
       "<table border=\"1\" class=\"dataframe\">\n",
       "  <thead>\n",
       "    <tr style=\"text-align: right;\">\n",
       "      <th>label</th>\n",
       "      <th>Assembly Required</th>\n",
       "      <th>Color</th>\n",
       "      <th>Commercial / Residential</th>\n",
       "      <th>ENERGY STAR Certified</th>\n",
       "      <th>Features</th>\n",
       "      <th>Finish</th>\n",
       "      <th>Flooring Product Type</th>\n",
       "      <th>Hardware Included</th>\n",
       "      <th>Included</th>\n",
       "      <th>Indoor/Outdoor</th>\n",
       "      <th>Package Quantity</th>\n",
       "      <th>Shape</th>\n",
       "      <th>Tools Product Type</th>\n",
       "      <th>Voltage (volts)</th>\n",
       "      <th>Wattage (watts)</th>\n",
       "    </tr>\n",
       "    <tr>\n",
       "      <th>id</th>\n",
       "      <th></th>\n",
       "      <th></th>\n",
       "      <th></th>\n",
       "      <th></th>\n",
       "      <th></th>\n",
       "      <th></th>\n",
       "      <th></th>\n",
       "      <th></th>\n",
       "      <th></th>\n",
       "      <th></th>\n",
       "      <th></th>\n",
       "      <th></th>\n",
       "      <th></th>\n",
       "      <th></th>\n",
       "      <th></th>\n",
       "    </tr>\n",
       "  </thead>\n",
       "  <tbody>\n",
       "    <tr>\n",
       "      <th>100003</th>\n",
       "      <td>NaN</td>\n",
       "      <td>NaN</td>\n",
       "      <td>NaN</td>\n",
       "      <td>NaN</td>\n",
       "      <td>NaN</td>\n",
       "      <td>NaN</td>\n",
       "      <td>NaN</td>\n",
       "      <td>NaN</td>\n",
       "      <td>NaN</td>\n",
       "      <td>NaN</td>\n",
       "      <td>NaN</td>\n",
       "      <td>[classic, architecture, meets, contemporary, d...</td>\n",
       "      <td>NaN</td>\n",
       "      <td>NaN</td>\n",
       "      <td>NaN</td>\n",
       "    </tr>\n",
       "    <tr>\n",
       "      <th>100004</th>\n",
       "      <td>NaN</td>\n",
       "      <td>NaN</td>\n",
       "      <td>NaN</td>\n",
       "      <td>NaN</td>\n",
       "      <td>NaN</td>\n",
       "      <td>NaN</td>\n",
       "      <td>NaN</td>\n",
       "      <td>NaN</td>\n",
       "      <td>NaN</td>\n",
       "      <td>NaN</td>\n",
       "      <td>NaN</td>\n",
       "      <td>NaN</td>\n",
       "      <td>NaN</td>\n",
       "      <td>[grape, solar, watt, polycrystalline, pv, sola...</td>\n",
       "      <td>[grape, solar, watt, polycrystalline, pv, sola...</td>\n",
       "    </tr>\n",
       "    <tr>\n",
       "      <th>100006</th>\n",
       "      <td>NaN</td>\n",
       "      <td>NaN</td>\n",
       "      <td>NaN</td>\n",
       "      <td>NaN</td>\n",
       "      <td>NaN</td>\n",
       "      <td>NaN</td>\n",
       "      <td>NaN</td>\n",
       "      <td>NaN</td>\n",
       "      <td>NaN</td>\n",
       "      <td>NaN</td>\n",
       "      <td>NaN</td>\n",
       "      <td>NaN</td>\n",
       "      <td>NaN</td>\n",
       "      <td>NaN</td>\n",
       "      <td>[achieving, delicious, results, almost, effort...</td>\n",
       "    </tr>\n",
       "    <tr>\n",
       "      <th>100007</th>\n",
       "      <td>NaN</td>\n",
       "      <td>NaN</td>\n",
       "      <td>NaN</td>\n",
       "      <td>[quantum, adjustable, light, led, black, emerg...</td>\n",
       "      <td>NaN</td>\n",
       "      <td>NaN</td>\n",
       "      <td>NaN</td>\n",
       "      <td>NaN</td>\n",
       "      <td>NaN</td>\n",
       "      <td>NaN</td>\n",
       "      <td>NaN</td>\n",
       "      <td>NaN</td>\n",
       "      <td>NaN</td>\n",
       "      <td>NaN</td>\n",
       "      <td>NaN</td>\n",
       "    </tr>\n",
       "    <tr>\n",
       "      <th>100008</th>\n",
       "      <td>NaN</td>\n",
       "      <td>NaN</td>\n",
       "      <td>NaN</td>\n",
       "      <td>NaN</td>\n",
       "      <td>NaN</td>\n",
       "      <td>[teks, x, zincplated, steel, washerhead, hex, ...</td>\n",
       "      <td>NaN</td>\n",
       "      <td>NaN</td>\n",
       "      <td>NaN</td>\n",
       "      <td>[teks, x, zincplated, steel, washerhead, hex, ...</td>\n",
       "      <td>[teks, x, zincplated, steel, washerhead, hex, ...</td>\n",
       "      <td>NaN</td>\n",
       "      <td>NaN</td>\n",
       "      <td>NaN</td>\n",
       "      <td>NaN</td>\n",
       "    </tr>\n",
       "  </tbody>\n",
       "</table>\n",
       "</div>"
      ],
      "text/plain": [
       "label  Assembly Required Color Commercial / Residential  \\\n",
       "id                                                        \n",
       "100003               NaN   NaN                      NaN   \n",
       "100004               NaN   NaN                      NaN   \n",
       "100006               NaN   NaN                      NaN   \n",
       "100007               NaN   NaN                      NaN   \n",
       "100008               NaN   NaN                      NaN   \n",
       "\n",
       "label                               ENERGY STAR Certified Features  \\\n",
       "id                                                                   \n",
       "100003                                                NaN      NaN   \n",
       "100004                                                NaN      NaN   \n",
       "100006                                                NaN      NaN   \n",
       "100007  [quantum, adjustable, light, led, black, emerg...      NaN   \n",
       "100008                                                NaN      NaN   \n",
       "\n",
       "label                                              Finish  \\\n",
       "id                                                          \n",
       "100003                                                NaN   \n",
       "100004                                                NaN   \n",
       "100006                                                NaN   \n",
       "100007                                                NaN   \n",
       "100008  [teks, x, zincplated, steel, washerhead, hex, ...   \n",
       "\n",
       "label  Flooring Product Type Hardware Included Included  \\\n",
       "id                                                        \n",
       "100003                   NaN               NaN      NaN   \n",
       "100004                   NaN               NaN      NaN   \n",
       "100006                   NaN               NaN      NaN   \n",
       "100007                   NaN               NaN      NaN   \n",
       "100008                   NaN               NaN      NaN   \n",
       "\n",
       "label                                      Indoor/Outdoor  \\\n",
       "id                                                          \n",
       "100003                                                NaN   \n",
       "100004                                                NaN   \n",
       "100006                                                NaN   \n",
       "100007                                                NaN   \n",
       "100008  [teks, x, zincplated, steel, washerhead, hex, ...   \n",
       "\n",
       "label                                    Package Quantity  \\\n",
       "id                                                          \n",
       "100003                                                NaN   \n",
       "100004                                                NaN   \n",
       "100006                                                NaN   \n",
       "100007                                                NaN   \n",
       "100008  [teks, x, zincplated, steel, washerhead, hex, ...   \n",
       "\n",
       "label                                               Shape Tools Product Type  \\\n",
       "id                                                                             \n",
       "100003  [classic, architecture, meets, contemporary, d...                NaN   \n",
       "100004                                                NaN                NaN   \n",
       "100006                                                NaN                NaN   \n",
       "100007                                                NaN                NaN   \n",
       "100008                                                NaN                NaN   \n",
       "\n",
       "label                                     Voltage (volts)  \\\n",
       "id                                                          \n",
       "100003                                                NaN   \n",
       "100004  [grape, solar, watt, polycrystalline, pv, sola...   \n",
       "100006                                                NaN   \n",
       "100007                                                NaN   \n",
       "100008                                                NaN   \n",
       "\n",
       "label                                     Wattage (watts)  \n",
       "id                                                         \n",
       "100003                                                NaN  \n",
       "100004  [grape, solar, watt, polycrystalline, pv, sola...  \n",
       "100006  [achieving, delicious, results, almost, effort...  \n",
       "100007                                                NaN  \n",
       "100008                                                NaN  "
      ]
     },
     "execution_count": 144,
     "metadata": {},
     "output_type": "execute_result"
    }
   ],
   "source": [
    "df_merged = df_merged.drop_duplicates(['id','label'])\n",
    "df_new = df_merged.pivot(index='id', columns='label')\n",
    "df_new.columns = df_new.columns.droplevel(0)\n",
    "df_new.head()"
   ]
  },
  {
   "cell_type": "markdown",
   "metadata": {},
   "source": [
    "<b>Using One hot encoding and converting the categorical variables to binary values</b>"
   ]
  },
  {
   "cell_type": "code",
   "execution_count": 145,
   "metadata": {},
   "outputs": [
    {
     "data": {
      "text/html": [
       "<div>\n",
       "<style scoped>\n",
       "    .dataframe tbody tr th:only-of-type {\n",
       "        vertical-align: middle;\n",
       "    }\n",
       "\n",
       "    .dataframe tbody tr th {\n",
       "        vertical-align: top;\n",
       "    }\n",
       "\n",
       "    .dataframe thead th {\n",
       "        text-align: right;\n",
       "    }\n",
       "</style>\n",
       "<table border=\"1\" class=\"dataframe\">\n",
       "  <thead>\n",
       "    <tr style=\"text-align: right;\">\n",
       "      <th>label</th>\n",
       "      <th>Assembly Required</th>\n",
       "      <th>Color</th>\n",
       "      <th>Commercial / Residential</th>\n",
       "      <th>ENERGY STAR Certified</th>\n",
       "      <th>Features</th>\n",
       "      <th>Finish</th>\n",
       "      <th>Flooring Product Type</th>\n",
       "      <th>Hardware Included</th>\n",
       "      <th>Included</th>\n",
       "      <th>Indoor/Outdoor</th>\n",
       "      <th>Package Quantity</th>\n",
       "      <th>Shape</th>\n",
       "      <th>Tools Product Type</th>\n",
       "      <th>Voltage (volts)</th>\n",
       "      <th>Wattage (watts)</th>\n",
       "    </tr>\n",
       "    <tr>\n",
       "      <th>id</th>\n",
       "      <th></th>\n",
       "      <th></th>\n",
       "      <th></th>\n",
       "      <th></th>\n",
       "      <th></th>\n",
       "      <th></th>\n",
       "      <th></th>\n",
       "      <th></th>\n",
       "      <th></th>\n",
       "      <th></th>\n",
       "      <th></th>\n",
       "      <th></th>\n",
       "      <th></th>\n",
       "      <th></th>\n",
       "      <th></th>\n",
       "    </tr>\n",
       "  </thead>\n",
       "  <tbody>\n",
       "    <tr>\n",
       "      <th>100003</th>\n",
       "      <td>0</td>\n",
       "      <td>0</td>\n",
       "      <td>0</td>\n",
       "      <td>0</td>\n",
       "      <td>0</td>\n",
       "      <td>0</td>\n",
       "      <td>0</td>\n",
       "      <td>0</td>\n",
       "      <td>0</td>\n",
       "      <td>0</td>\n",
       "      <td>0</td>\n",
       "      <td>1</td>\n",
       "      <td>0</td>\n",
       "      <td>0</td>\n",
       "      <td>0</td>\n",
       "    </tr>\n",
       "    <tr>\n",
       "      <th>100004</th>\n",
       "      <td>0</td>\n",
       "      <td>0</td>\n",
       "      <td>0</td>\n",
       "      <td>0</td>\n",
       "      <td>0</td>\n",
       "      <td>0</td>\n",
       "      <td>0</td>\n",
       "      <td>0</td>\n",
       "      <td>0</td>\n",
       "      <td>0</td>\n",
       "      <td>0</td>\n",
       "      <td>0</td>\n",
       "      <td>0</td>\n",
       "      <td>1</td>\n",
       "      <td>1</td>\n",
       "    </tr>\n",
       "    <tr>\n",
       "      <th>100006</th>\n",
       "      <td>0</td>\n",
       "      <td>0</td>\n",
       "      <td>0</td>\n",
       "      <td>0</td>\n",
       "      <td>0</td>\n",
       "      <td>0</td>\n",
       "      <td>0</td>\n",
       "      <td>0</td>\n",
       "      <td>0</td>\n",
       "      <td>0</td>\n",
       "      <td>0</td>\n",
       "      <td>0</td>\n",
       "      <td>0</td>\n",
       "      <td>0</td>\n",
       "      <td>1</td>\n",
       "    </tr>\n",
       "    <tr>\n",
       "      <th>100007</th>\n",
       "      <td>0</td>\n",
       "      <td>0</td>\n",
       "      <td>0</td>\n",
       "      <td>1</td>\n",
       "      <td>0</td>\n",
       "      <td>0</td>\n",
       "      <td>0</td>\n",
       "      <td>0</td>\n",
       "      <td>0</td>\n",
       "      <td>0</td>\n",
       "      <td>0</td>\n",
       "      <td>0</td>\n",
       "      <td>0</td>\n",
       "      <td>0</td>\n",
       "      <td>0</td>\n",
       "    </tr>\n",
       "    <tr>\n",
       "      <th>100008</th>\n",
       "      <td>0</td>\n",
       "      <td>0</td>\n",
       "      <td>0</td>\n",
       "      <td>0</td>\n",
       "      <td>0</td>\n",
       "      <td>1</td>\n",
       "      <td>0</td>\n",
       "      <td>0</td>\n",
       "      <td>0</td>\n",
       "      <td>1</td>\n",
       "      <td>1</td>\n",
       "      <td>0</td>\n",
       "      <td>0</td>\n",
       "      <td>0</td>\n",
       "      <td>0</td>\n",
       "    </tr>\n",
       "  </tbody>\n",
       "</table>\n",
       "</div>"
      ],
      "text/plain": [
       "label   Assembly Required  Color  Commercial / Residential  \\\n",
       "id                                                           \n",
       "100003                  0      0                         0   \n",
       "100004                  0      0                         0   \n",
       "100006                  0      0                         0   \n",
       "100007                  0      0                         0   \n",
       "100008                  0      0                         0   \n",
       "\n",
       "label   ENERGY STAR Certified  Features  Finish  Flooring Product Type  \\\n",
       "id                                                                       \n",
       "100003                      0         0       0                      0   \n",
       "100004                      0         0       0                      0   \n",
       "100006                      0         0       0                      0   \n",
       "100007                      1         0       0                      0   \n",
       "100008                      0         0       1                      0   \n",
       "\n",
       "label   Hardware Included  Included  Indoor/Outdoor  Package Quantity  Shape  \\\n",
       "id                                                                             \n",
       "100003                  0         0               0                 0      1   \n",
       "100004                  0         0               0                 0      0   \n",
       "100006                  0         0               0                 0      0   \n",
       "100007                  0         0               0                 0      0   \n",
       "100008                  0         0               1                 1      0   \n",
       "\n",
       "label   Tools Product Type  Voltage (volts)  Wattage (watts)  \n",
       "id                                                            \n",
       "100003                   0                0                0  \n",
       "100004                   0                1                1  \n",
       "100006                   0                0                1  \n",
       "100007                   0                0                0  \n",
       "100008                   0                0                0  "
      ]
     },
     "execution_count": 145,
     "metadata": {},
     "output_type": "execute_result"
    }
   ],
   "source": [
    "#Converting all the NaN's to zeroes and Non NaN's to 1\n",
    "df_onehot = df_new.notnull().astype('int')\n",
    "df_onehot.head()"
   ]
  },
  {
   "cell_type": "markdown",
   "metadata": {},
   "source": [
    "<h3>Feature Selection</h3>"
   ]
  },
  {
   "cell_type": "code",
   "execution_count": 146,
   "metadata": {},
   "outputs": [
    {
     "data": {
      "text/plain": [
       "(41569, 15)"
      ]
     },
     "execution_count": 146,
     "metadata": {},
     "output_type": "execute_result"
    }
   ],
   "source": [
    "X = df_onehot\n",
    "X[0:5]\n",
    "X.shape"
   ]
  },
  {
   "cell_type": "markdown",
   "metadata": {},
   "source": [
    "Defining the labels"
   ]
  },
  {
   "cell_type": "code",
   "execution_count": 148,
   "metadata": {},
   "outputs": [
    {
     "data": {
      "text/plain": [
       "(75170,)"
      ]
     },
     "execution_count": 148,
     "metadata": {},
     "output_type": "execute_result"
    }
   ],
   "source": [
    "y = df1['label'].values\n",
    "y[0:5]\n",
    "y.shape"
   ]
  },
  {
   "cell_type": "markdown",
   "metadata": {},
   "source": [
    "<h3>Normalize data</h3>"
   ]
  },
  {
   "cell_type": "markdown",
   "metadata": {},
   "source": [
    "Data Standardization give data zero mean and unit variance (technically should be done after train test split )"
   ]
  },
  {
   "cell_type": "code",
   "execution_count": 149,
   "metadata": {},
   "outputs": [
    {
     "name": "stderr",
     "output_type": "stream",
     "text": [
      "/home/jupyterlab/conda/lib/python3.6/site-packages/sklearn/preprocessing/data.py:625: DataConversionWarning: Data with input dtype int64 were all converted to float64 by StandardScaler.\n",
      "  return self.partial_fit(X, y)\n",
      "/home/jupyterlab/conda/lib/python3.6/site-packages/ipykernel_launcher.py:1: DataConversionWarning: Data with input dtype int64 were all converted to float64 by StandardScaler.\n",
      "  \"\"\"Entry point for launching an IPython kernel.\n"
     ]
    },
    {
     "data": {
      "text/plain": [
       "array([[-0.3381727 , -0.34863522, -0.4448037 , -0.43087488, -0.31815705,\n",
       "        -0.30801276, -0.34454215, -0.38930662, -0.34689686, -0.54126745,\n",
       "        -0.36955707,  3.29236189, -0.35738364, -0.35652703, -0.32249393],\n",
       "       [-0.3381727 , -0.34863522, -0.4448037 , -0.43087488, -0.31815705,\n",
       "        -0.30801276, -0.34454215, -0.38930662, -0.34689686, -0.54126745,\n",
       "        -0.36955707, -0.30373332, -0.35738364,  2.80483645,  3.10083352],\n",
       "       [-0.3381727 , -0.34863522, -0.4448037 , -0.43087488, -0.31815705,\n",
       "        -0.30801276, -0.34454215, -0.38930662, -0.34689686, -0.54126745,\n",
       "        -0.36955707, -0.30373332, -0.35738364, -0.35652703,  3.10083352],\n",
       "       [-0.3381727 , -0.34863522, -0.4448037 ,  2.32085934, -0.31815705,\n",
       "        -0.30801276, -0.34454215, -0.38930662, -0.34689686, -0.54126745,\n",
       "        -0.36955707, -0.30373332, -0.35738364, -0.35652703, -0.32249393],\n",
       "       [-0.3381727 , -0.34863522, -0.4448037 , -0.43087488, -0.31815705,\n",
       "         3.24661871, -0.34454215, -0.38930662, -0.34689686,  1.8475155 ,\n",
       "         2.705942  , -0.30373332, -0.35738364, -0.35652703, -0.32249393]])"
      ]
     },
     "execution_count": 149,
     "metadata": {},
     "output_type": "execute_result"
    }
   ],
   "source": [
    "X= preprocessing.StandardScaler().fit(X).transform(X)\n",
    "X[0:5]"
   ]
  },
  {
   "cell_type": "markdown",
   "metadata": {},
   "source": [
    "<h2>Classification</h2>"
   ]
  },
  {
   "cell_type": "markdown",
   "metadata": {},
   "source": [
    "I'm going to use the training set to build a model. I'll then use the test set to report the accuracy of the model using the following algorithms:\n",
    "\n",
    "* K Nearest Neighbor(KNN)\n",
    "* Decision Tree\n",
    "* Logistic Regression\n",
    "\n",
    "I'll do the model training using the train dataset provided. Next step is to load the test data and apply the noise removal and pre-processing to it so that it matches the train data. It'll then be fed to the ML algorithms to predict the labels for the text provided.\n",
    "The performance of the model is then evaluated and a final dataframe consisting of id's as the index and labels as column headers with the text label prediction probability updated as the values."
   ]
  },
  {
   "cell_type": "markdown",
   "metadata": {},
   "source": []
  },
  {
   "cell_type": "code",
   "execution_count": null,
   "metadata": {},
   "outputs": [],
   "source": []
  }
 ],
 "metadata": {
  "kernelspec": {
   "display_name": "Python 3",
   "language": "python",
   "name": "python3"
  },
  "language_info": {
   "codemirror_mode": {
    "name": "ipython",
    "version": 3
   },
   "file_extension": ".py",
   "mimetype": "text/x-python",
   "name": "python",
   "nbconvert_exporter": "python",
   "pygments_lexer": "ipython3",
   "version": "3.6.6"
  }
 },
 "nbformat": 4,
 "nbformat_minor": 2
}
